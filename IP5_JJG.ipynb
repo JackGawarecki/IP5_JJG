{
 "cells": [
  {
   "cell_type": "markdown",
   "id": "6a049b32",
   "metadata": {},
   "source": [
    "# Jackson Gawarecki\n",
    "## Individual Project 5\n",
    "### DS160-02 Introduction to Data Science\n",
    "#### Spring 2022"
   ]
  },
  {
   "cell_type": "code",
   "execution_count": 28,
   "id": "c741d79b",
   "metadata": {},
   "outputs": [],
   "source": [
    "import pandas as pd\n",
    "import numpy as np\n",
    "import matplotlib.pyplot as plt\n",
    "import seaborn as sns "
   ]
  },
  {
   "cell_type": "code",
   "execution_count": 29,
   "id": "c4e23db0",
   "metadata": {},
   "outputs": [
    {
     "data": {
      "text/html": [
       "<div>\n",
       "<style scoped>\n",
       "    .dataframe tbody tr th:only-of-type {\n",
       "        vertical-align: middle;\n",
       "    }\n",
       "\n",
       "    .dataframe tbody tr th {\n",
       "        vertical-align: top;\n",
       "    }\n",
       "\n",
       "    .dataframe thead th {\n",
       "        text-align: right;\n",
       "    }\n",
       "</style>\n",
       "<table border=\"1\" class=\"dataframe\">\n",
       "  <thead>\n",
       "    <tr style=\"text-align: right;\">\n",
       "      <th></th>\n",
       "      <th>Date</th>\n",
       "      <th>Day</th>\n",
       "      <th>Sleep Hour</th>\n",
       "      <th>Exercise Hour</th>\n",
       "      <th>Study Hour</th>\n",
       "      <th>StudyDS Hour</th>\n",
       "      <th>Work Hour</th>\n",
       "      <th>End of the day Feeling (0 to 10)</th>\n",
       "      <th>Unnamed: 8</th>\n",
       "      <th>Unnamed: 9</th>\n",
       "      <th>Unnamed: 10</th>\n",
       "      <th>Unnamed: 11</th>\n",
       "    </tr>\n",
       "  </thead>\n",
       "  <tbody>\n",
       "    <tr>\n",
       "      <th>0</th>\n",
       "      <td>13-Jan</td>\n",
       "      <td>Thursday</td>\n",
       "      <td>8.0</td>\n",
       "      <td>2.0</td>\n",
       "      <td>2.0</td>\n",
       "      <td>0.25</td>\n",
       "      <td>4.0</td>\n",
       "      <td>7.0</td>\n",
       "      <td>NaN</td>\n",
       "      <td>NaN</td>\n",
       "      <td>NaN</td>\n",
       "      <td>NaN</td>\n",
       "    </tr>\n",
       "    <tr>\n",
       "      <th>1</th>\n",
       "      <td>14-Jan</td>\n",
       "      <td>Friday</td>\n",
       "      <td>9.0</td>\n",
       "      <td>2.0</td>\n",
       "      <td>2.0</td>\n",
       "      <td>0.00</td>\n",
       "      <td>4.0</td>\n",
       "      <td>8.0</td>\n",
       "      <td>NaN</td>\n",
       "      <td>NaN</td>\n",
       "      <td>NaN</td>\n",
       "      <td>NaN</td>\n",
       "    </tr>\n",
       "    <tr>\n",
       "      <th>2</th>\n",
       "      <td>15-Jan</td>\n",
       "      <td>Saturday</td>\n",
       "      <td>8.0</td>\n",
       "      <td>2.0</td>\n",
       "      <td>1.0</td>\n",
       "      <td>0.00</td>\n",
       "      <td>4.0</td>\n",
       "      <td>6.0</td>\n",
       "      <td>NaN</td>\n",
       "      <td>NaN</td>\n",
       "      <td>NaN</td>\n",
       "      <td>NaN</td>\n",
       "    </tr>\n",
       "    <tr>\n",
       "      <th>3</th>\n",
       "      <td>16-Jan</td>\n",
       "      <td>Sunday</td>\n",
       "      <td>11.0</td>\n",
       "      <td>2.0</td>\n",
       "      <td>0.0</td>\n",
       "      <td>0.00</td>\n",
       "      <td>4.0</td>\n",
       "      <td>8.0</td>\n",
       "      <td>NaN</td>\n",
       "      <td>NaN</td>\n",
       "      <td>NaN</td>\n",
       "      <td>Feeling: 0 (‘not at all’) to 10 (‘extremely’) ...</td>\n",
       "    </tr>\n",
       "    <tr>\n",
       "      <th>4</th>\n",
       "      <td>17-Jan</td>\n",
       "      <td>Monday</td>\n",
       "      <td>8.0</td>\n",
       "      <td>3.0</td>\n",
       "      <td>2.0</td>\n",
       "      <td>0.00</td>\n",
       "      <td>4.0</td>\n",
       "      <td>8.0</td>\n",
       "      <td>NaN</td>\n",
       "      <td>NaN</td>\n",
       "      <td>NaN</td>\n",
       "      <td>NaN</td>\n",
       "    </tr>\n",
       "  </tbody>\n",
       "</table>\n",
       "</div>"
      ],
      "text/plain": [
       "     Date       Day  Sleep Hour  Exercise Hour  Study Hour  StudyDS Hour  \\\n",
       "0  13-Jan  Thursday         8.0            2.0         2.0          0.25   \n",
       "1  14-Jan    Friday         9.0            2.0         2.0          0.00   \n",
       "2  15-Jan  Saturday         8.0            2.0         1.0          0.00   \n",
       "3  16-Jan    Sunday        11.0            2.0         0.0          0.00   \n",
       "4  17-Jan    Monday         8.0            3.0         2.0          0.00   \n",
       "\n",
       "   Work Hour  End of the day Feeling (0 to 10)  Unnamed: 8  Unnamed: 9  \\\n",
       "0        4.0                               7.0         NaN         NaN   \n",
       "1        4.0                               8.0         NaN         NaN   \n",
       "2        4.0                               6.0         NaN         NaN   \n",
       "3        4.0                               8.0         NaN         NaN   \n",
       "4        4.0                               8.0         NaN         NaN   \n",
       "\n",
       "   Unnamed: 10                                        Unnamed: 11  \n",
       "0          NaN                                                NaN  \n",
       "1          NaN                                                NaN  \n",
       "2          NaN                                                NaN  \n",
       "3          NaN  Feeling: 0 (‘not at all’) to 10 (‘extremely’) ...  \n",
       "4          NaN                                                NaN  "
      ]
     },
     "execution_count": 29,
     "metadata": {},
     "output_type": "execute_result"
    }
   ],
   "source": [
    "df=pd.read_csv(\"Self Awareness Dataset.csv\")\n",
    "df.head()"
   ]
  },
  {
   "cell_type": "markdown",
   "id": "2dcd679b",
   "metadata": {},
   "source": [
    "# Check for Null values"
   ]
  },
  {
   "cell_type": "code",
   "execution_count": 30,
   "id": "20a3c88c",
   "metadata": {},
   "outputs": [
    {
     "data": {
      "text/plain": [
       "Date                                 5\n",
       "Day                                  5\n",
       "Sleep Hour                           5\n",
       "Exercise Hour                        5\n",
       "Study Hour                           5\n",
       "StudyDS Hour                         5\n",
       "Work Hour                            5\n",
       "End of the day Feeling (0 to 10)     5\n",
       "Unnamed: 8                          73\n",
       "Unnamed: 9                          73\n",
       "Unnamed: 10                         73\n",
       "Unnamed: 11                         71\n",
       "dtype: int64"
      ]
     },
     "execution_count": 30,
     "metadata": {},
     "output_type": "execute_result"
    }
   ],
   "source": [
    "df.isnull().sum()"
   ]
  },
  {
   "cell_type": "code",
   "execution_count": 31,
   "id": "f0e0a328",
   "metadata": {},
   "outputs": [
    {
     "data": {
      "text/html": [
       "<div>\n",
       "<style scoped>\n",
       "    .dataframe tbody tr th:only-of-type {\n",
       "        vertical-align: middle;\n",
       "    }\n",
       "\n",
       "    .dataframe tbody tr th {\n",
       "        vertical-align: top;\n",
       "    }\n",
       "\n",
       "    .dataframe thead th {\n",
       "        text-align: right;\n",
       "    }\n",
       "</style>\n",
       "<table border=\"1\" class=\"dataframe\">\n",
       "  <thead>\n",
       "    <tr style=\"text-align: right;\">\n",
       "      <th></th>\n",
       "      <th>Date</th>\n",
       "      <th>Day</th>\n",
       "      <th>Sleep Hour</th>\n",
       "      <th>Exercise Hour</th>\n",
       "      <th>Study Hour</th>\n",
       "      <th>StudyDS Hour</th>\n",
       "      <th>Work Hour</th>\n",
       "      <th>End of the day Feeling (0 to 10)</th>\n",
       "      <th>Unnamed: 8</th>\n",
       "      <th>Unnamed: 9</th>\n",
       "      <th>Unnamed: 10</th>\n",
       "      <th>Unnamed: 11</th>\n",
       "    </tr>\n",
       "  </thead>\n",
       "  <tbody>\n",
       "    <tr>\n",
       "      <th>68</th>\n",
       "      <td>NaN</td>\n",
       "      <td>NaN</td>\n",
       "      <td>NaN</td>\n",
       "      <td>NaN</td>\n",
       "      <td>NaN</td>\n",
       "      <td>NaN</td>\n",
       "      <td>NaN</td>\n",
       "      <td>NaN</td>\n",
       "      <td>NaN</td>\n",
       "      <td>NaN</td>\n",
       "      <td>NaN</td>\n",
       "      <td>NaN</td>\n",
       "    </tr>\n",
       "    <tr>\n",
       "      <th>69</th>\n",
       "      <td>NaN</td>\n",
       "      <td>NaN</td>\n",
       "      <td>NaN</td>\n",
       "      <td>NaN</td>\n",
       "      <td>NaN</td>\n",
       "      <td>NaN</td>\n",
       "      <td>NaN</td>\n",
       "      <td>NaN</td>\n",
       "      <td>NaN</td>\n",
       "      <td>NaN</td>\n",
       "      <td>NaN</td>\n",
       "      <td>NaN</td>\n",
       "    </tr>\n",
       "    <tr>\n",
       "      <th>70</th>\n",
       "      <td>NaN</td>\n",
       "      <td>NaN</td>\n",
       "      <td>NaN</td>\n",
       "      <td>NaN</td>\n",
       "      <td>NaN</td>\n",
       "      <td>NaN</td>\n",
       "      <td>NaN</td>\n",
       "      <td>NaN</td>\n",
       "      <td>NaN</td>\n",
       "      <td>NaN</td>\n",
       "      <td>NaN</td>\n",
       "      <td>NaN</td>\n",
       "    </tr>\n",
       "    <tr>\n",
       "      <th>71</th>\n",
       "      <td>NaN</td>\n",
       "      <td>NaN</td>\n",
       "      <td>NaN</td>\n",
       "      <td>NaN</td>\n",
       "      <td>NaN</td>\n",
       "      <td>NaN</td>\n",
       "      <td>NaN</td>\n",
       "      <td>NaN</td>\n",
       "      <td>NaN</td>\n",
       "      <td>NaN</td>\n",
       "      <td>NaN</td>\n",
       "      <td>NaN</td>\n",
       "    </tr>\n",
       "    <tr>\n",
       "      <th>72</th>\n",
       "      <td>NaN</td>\n",
       "      <td>NaN</td>\n",
       "      <td>NaN</td>\n",
       "      <td>NaN</td>\n",
       "      <td>NaN</td>\n",
       "      <td>NaN</td>\n",
       "      <td>NaN</td>\n",
       "      <td>NaN</td>\n",
       "      <td>NaN</td>\n",
       "      <td>NaN</td>\n",
       "      <td>NaN</td>\n",
       "      <td>NaN</td>\n",
       "    </tr>\n",
       "  </tbody>\n",
       "</table>\n",
       "</div>"
      ],
      "text/plain": [
       "   Date  Day  Sleep Hour  Exercise Hour  Study Hour  StudyDS Hour  Work Hour  \\\n",
       "68  NaN  NaN         NaN            NaN         NaN           NaN        NaN   \n",
       "69  NaN  NaN         NaN            NaN         NaN           NaN        NaN   \n",
       "70  NaN  NaN         NaN            NaN         NaN           NaN        NaN   \n",
       "71  NaN  NaN         NaN            NaN         NaN           NaN        NaN   \n",
       "72  NaN  NaN         NaN            NaN         NaN           NaN        NaN   \n",
       "\n",
       "    End of the day Feeling (0 to 10)  Unnamed: 8  Unnamed: 9  Unnamed: 10  \\\n",
       "68                               NaN         NaN         NaN          NaN   \n",
       "69                               NaN         NaN         NaN          NaN   \n",
       "70                               NaN         NaN         NaN          NaN   \n",
       "71                               NaN         NaN         NaN          NaN   \n",
       "72                               NaN         NaN         NaN          NaN   \n",
       "\n",
       "   Unnamed: 11  \n",
       "68         NaN  \n",
       "69         NaN  \n",
       "70         NaN  \n",
       "71         NaN  \n",
       "72         NaN  "
      ]
     },
     "execution_count": 31,
     "metadata": {},
     "output_type": "execute_result"
    }
   ],
   "source": [
    "df.tail()"
   ]
  },
  {
   "cell_type": "markdown",
   "id": "83501150",
   "metadata": {},
   "source": [
    "# Remove the last five rows"
   ]
  },
  {
   "cell_type": "code",
   "execution_count": 32,
   "id": "9e5b168a",
   "metadata": {},
   "outputs": [],
   "source": [
    "df.drop(df.tail(5).index,\n",
    "        inplace = True)"
   ]
  },
  {
   "cell_type": "code",
   "execution_count": 33,
   "id": "dabe1203",
   "metadata": {},
   "outputs": [
    {
     "data": {
      "text/html": [
       "<div>\n",
       "<style scoped>\n",
       "    .dataframe tbody tr th:only-of-type {\n",
       "        vertical-align: middle;\n",
       "    }\n",
       "\n",
       "    .dataframe tbody tr th {\n",
       "        vertical-align: top;\n",
       "    }\n",
       "\n",
       "    .dataframe thead th {\n",
       "        text-align: right;\n",
       "    }\n",
       "</style>\n",
       "<table border=\"1\" class=\"dataframe\">\n",
       "  <thead>\n",
       "    <tr style=\"text-align: right;\">\n",
       "      <th></th>\n",
       "      <th>Date</th>\n",
       "      <th>Day</th>\n",
       "      <th>Sleep Hour</th>\n",
       "      <th>Exercise Hour</th>\n",
       "      <th>Study Hour</th>\n",
       "      <th>StudyDS Hour</th>\n",
       "      <th>Work Hour</th>\n",
       "      <th>End of the day Feeling (0 to 10)</th>\n",
       "      <th>Unnamed: 8</th>\n",
       "      <th>Unnamed: 9</th>\n",
       "      <th>Unnamed: 10</th>\n",
       "      <th>Unnamed: 11</th>\n",
       "    </tr>\n",
       "  </thead>\n",
       "  <tbody>\n",
       "    <tr>\n",
       "      <th>63</th>\n",
       "      <td>17-Mar</td>\n",
       "      <td>Thursday</td>\n",
       "      <td>8.0</td>\n",
       "      <td>2.0</td>\n",
       "      <td>1.0</td>\n",
       "      <td>1.0</td>\n",
       "      <td>4.0</td>\n",
       "      <td>9.0</td>\n",
       "      <td>NaN</td>\n",
       "      <td>NaN</td>\n",
       "      <td>NaN</td>\n",
       "      <td>NaN</td>\n",
       "    </tr>\n",
       "    <tr>\n",
       "      <th>64</th>\n",
       "      <td>18-Mar</td>\n",
       "      <td>Friday</td>\n",
       "      <td>7.0</td>\n",
       "      <td>1.0</td>\n",
       "      <td>1.0</td>\n",
       "      <td>0.0</td>\n",
       "      <td>1.0</td>\n",
       "      <td>8.0</td>\n",
       "      <td>NaN</td>\n",
       "      <td>NaN</td>\n",
       "      <td>NaN</td>\n",
       "      <td>NaN</td>\n",
       "    </tr>\n",
       "    <tr>\n",
       "      <th>65</th>\n",
       "      <td>19-Mar</td>\n",
       "      <td>Saturday</td>\n",
       "      <td>8.0</td>\n",
       "      <td>2.0</td>\n",
       "      <td>0.0</td>\n",
       "      <td>0.0</td>\n",
       "      <td>2.0</td>\n",
       "      <td>8.0</td>\n",
       "      <td>NaN</td>\n",
       "      <td>NaN</td>\n",
       "      <td>NaN</td>\n",
       "      <td>NaN</td>\n",
       "    </tr>\n",
       "    <tr>\n",
       "      <th>66</th>\n",
       "      <td>20-Mar</td>\n",
       "      <td>Sunday</td>\n",
       "      <td>8.0</td>\n",
       "      <td>2.0</td>\n",
       "      <td>0.0</td>\n",
       "      <td>0.0</td>\n",
       "      <td>3.0</td>\n",
       "      <td>9.0</td>\n",
       "      <td>NaN</td>\n",
       "      <td>NaN</td>\n",
       "      <td>NaN</td>\n",
       "      <td>NaN</td>\n",
       "    </tr>\n",
       "    <tr>\n",
       "      <th>67</th>\n",
       "      <td>21-Mar</td>\n",
       "      <td>Monday</td>\n",
       "      <td>9.0</td>\n",
       "      <td>3.0</td>\n",
       "      <td>2.0</td>\n",
       "      <td>1.0</td>\n",
       "      <td>3.0</td>\n",
       "      <td>7.0</td>\n",
       "      <td>NaN</td>\n",
       "      <td>NaN</td>\n",
       "      <td>NaN</td>\n",
       "      <td>NaN</td>\n",
       "    </tr>\n",
       "  </tbody>\n",
       "</table>\n",
       "</div>"
      ],
      "text/plain": [
       "      Date       Day  Sleep Hour  Exercise Hour  Study Hour  StudyDS Hour  \\\n",
       "63  17-Mar  Thursday         8.0            2.0         1.0           1.0   \n",
       "64  18-Mar    Friday         7.0            1.0         1.0           0.0   \n",
       "65  19-Mar  Saturday         8.0            2.0         0.0           0.0   \n",
       "66  20-Mar    Sunday         8.0            2.0         0.0           0.0   \n",
       "67  21-Mar    Monday         9.0            3.0         2.0           1.0   \n",
       "\n",
       "    Work Hour  End of the day Feeling (0 to 10)  Unnamed: 8  Unnamed: 9  \\\n",
       "63        4.0                               9.0         NaN         NaN   \n",
       "64        1.0                               8.0         NaN         NaN   \n",
       "65        2.0                               8.0         NaN         NaN   \n",
       "66        3.0                               9.0         NaN         NaN   \n",
       "67        3.0                               7.0         NaN         NaN   \n",
       "\n",
       "    Unnamed: 10 Unnamed: 11  \n",
       "63          NaN         NaN  \n",
       "64          NaN         NaN  \n",
       "65          NaN         NaN  \n",
       "66          NaN         NaN  \n",
       "67          NaN         NaN  "
      ]
     },
     "execution_count": 33,
     "metadata": {},
     "output_type": "execute_result"
    }
   ],
   "source": [
    "df.tail()"
   ]
  },
  {
   "cell_type": "markdown",
   "id": "5ccaa55e",
   "metadata": {},
   "source": [
    "# Remove blank columns"
   ]
  },
  {
   "cell_type": "code",
   "execution_count": 34,
   "id": "59ed6eaa",
   "metadata": {},
   "outputs": [
    {
     "data": {
      "text/plain": [
       "Index(['Date', 'Day', 'Sleep Hour', 'Exercise Hour', 'Study Hour',\n",
       "       'StudyDS Hour', 'Work Hour', 'End of the day Feeling (0 to 10)',\n",
       "       'Unnamed: 8', 'Unnamed: 9', 'Unnamed: 10', 'Unnamed: 11'],\n",
       "      dtype='object')"
      ]
     },
     "execution_count": 34,
     "metadata": {},
     "output_type": "execute_result"
    }
   ],
   "source": [
    "df.columns"
   ]
  },
  {
   "cell_type": "code",
   "execution_count": 35,
   "id": "e7ed9324",
   "metadata": {},
   "outputs": [],
   "source": [
    "df.drop(['Unnamed: 8', 'Unnamed: 9', 'Unnamed: 10', 'Unnamed: 11'],\n",
    "        axis=1, inplace=True)"
   ]
  },
  {
   "cell_type": "markdown",
   "id": "02ef165b",
   "metadata": {},
   "source": [
    "# Split dataset into independent and dependent variables"
   ]
  },
  {
   "cell_type": "code",
   "execution_count": 36,
   "id": "770f6530",
   "metadata": {},
   "outputs": [
    {
     "data": {
      "text/plain": [
       "Index(['Date', 'Day', 'Sleep Hour', 'Exercise Hour', 'Study Hour',\n",
       "       'StudyDS Hour', 'Work Hour', 'End of the day Feeling (0 to 10)'],\n",
       "      dtype='object')"
      ]
     },
     "execution_count": 36,
     "metadata": {},
     "output_type": "execute_result"
    }
   ],
   "source": [
    "df.columns"
   ]
  },
  {
   "cell_type": "code",
   "execution_count": 37,
   "id": "48577588",
   "metadata": {},
   "outputs": [],
   "source": [
    "X=df[['Day', 'Sleep Hour', 'Exercise Hour', 'Study Hour',\n",
    "       'StudyDS Hour', 'Work Hour']]\n",
    "y=df[['End of the day Feeling (0 to 10)']]"
   ]
  },
  {
   "cell_type": "code",
   "execution_count": 38,
   "id": "cad63fb2",
   "metadata": {},
   "outputs": [
    {
     "data": {
      "text/html": [
       "<div>\n",
       "<style scoped>\n",
       "    .dataframe tbody tr th:only-of-type {\n",
       "        vertical-align: middle;\n",
       "    }\n",
       "\n",
       "    .dataframe tbody tr th {\n",
       "        vertical-align: top;\n",
       "    }\n",
       "\n",
       "    .dataframe thead th {\n",
       "        text-align: right;\n",
       "    }\n",
       "</style>\n",
       "<table border=\"1\" class=\"dataframe\">\n",
       "  <thead>\n",
       "    <tr style=\"text-align: right;\">\n",
       "      <th></th>\n",
       "      <th>Sleep Hour</th>\n",
       "      <th>Exercise Hour</th>\n",
       "      <th>Study Hour</th>\n",
       "      <th>StudyDS Hour</th>\n",
       "      <th>Work Hour</th>\n",
       "      <th>Day_Monday</th>\n",
       "      <th>Day_Saturday</th>\n",
       "      <th>Day_Sunday</th>\n",
       "      <th>Day_Thursday</th>\n",
       "      <th>Day_Tuesday</th>\n",
       "      <th>Day_Wednesday</th>\n",
       "    </tr>\n",
       "  </thead>\n",
       "  <tbody>\n",
       "    <tr>\n",
       "      <th>0</th>\n",
       "      <td>8.0</td>\n",
       "      <td>2.0</td>\n",
       "      <td>2.0</td>\n",
       "      <td>0.25</td>\n",
       "      <td>4.0</td>\n",
       "      <td>0</td>\n",
       "      <td>0</td>\n",
       "      <td>0</td>\n",
       "      <td>1</td>\n",
       "      <td>0</td>\n",
       "      <td>0</td>\n",
       "    </tr>\n",
       "    <tr>\n",
       "      <th>1</th>\n",
       "      <td>9.0</td>\n",
       "      <td>2.0</td>\n",
       "      <td>2.0</td>\n",
       "      <td>0.00</td>\n",
       "      <td>4.0</td>\n",
       "      <td>0</td>\n",
       "      <td>0</td>\n",
       "      <td>0</td>\n",
       "      <td>0</td>\n",
       "      <td>0</td>\n",
       "      <td>0</td>\n",
       "    </tr>\n",
       "    <tr>\n",
       "      <th>2</th>\n",
       "      <td>8.0</td>\n",
       "      <td>2.0</td>\n",
       "      <td>1.0</td>\n",
       "      <td>0.00</td>\n",
       "      <td>4.0</td>\n",
       "      <td>0</td>\n",
       "      <td>1</td>\n",
       "      <td>0</td>\n",
       "      <td>0</td>\n",
       "      <td>0</td>\n",
       "      <td>0</td>\n",
       "    </tr>\n",
       "    <tr>\n",
       "      <th>3</th>\n",
       "      <td>11.0</td>\n",
       "      <td>2.0</td>\n",
       "      <td>0.0</td>\n",
       "      <td>0.00</td>\n",
       "      <td>4.0</td>\n",
       "      <td>0</td>\n",
       "      <td>0</td>\n",
       "      <td>1</td>\n",
       "      <td>0</td>\n",
       "      <td>0</td>\n",
       "      <td>0</td>\n",
       "    </tr>\n",
       "    <tr>\n",
       "      <th>4</th>\n",
       "      <td>8.0</td>\n",
       "      <td>3.0</td>\n",
       "      <td>2.0</td>\n",
       "      <td>0.00</td>\n",
       "      <td>4.0</td>\n",
       "      <td>1</td>\n",
       "      <td>0</td>\n",
       "      <td>0</td>\n",
       "      <td>0</td>\n",
       "      <td>0</td>\n",
       "      <td>0</td>\n",
       "    </tr>\n",
       "  </tbody>\n",
       "</table>\n",
       "</div>"
      ],
      "text/plain": [
       "   Sleep Hour  Exercise Hour  Study Hour  StudyDS Hour  Work Hour  Day_Monday  \\\n",
       "0         8.0            2.0         2.0          0.25        4.0           0   \n",
       "1         9.0            2.0         2.0          0.00        4.0           0   \n",
       "2         8.0            2.0         1.0          0.00        4.0           0   \n",
       "3        11.0            2.0         0.0          0.00        4.0           0   \n",
       "4         8.0            3.0         2.0          0.00        4.0           1   \n",
       "\n",
       "   Day_Saturday  Day_Sunday  Day_Thursday  Day_Tuesday  Day_Wednesday  \n",
       "0             0           0             1            0              0  \n",
       "1             0           0             0            0              0  \n",
       "2             1           0             0            0              0  \n",
       "3             0           1             0            0              0  \n",
       "4             0           0             0            0              0  "
      ]
     },
     "execution_count": 38,
     "metadata": {},
     "output_type": "execute_result"
    }
   ],
   "source": [
    "X=pd.get_dummies(df[['Day', 'Sleep Hour', 'Exercise Hour', 'Study Hour',\n",
    "       'StudyDS Hour', 'Work Hour']],drop_first=True)\n",
    "X.head()"
   ]
  },
  {
   "cell_type": "code",
   "execution_count": 39,
   "id": "5e37786d",
   "metadata": {},
   "outputs": [
    {
     "data": {
      "text/html": [
       "<div>\n",
       "<style scoped>\n",
       "    .dataframe tbody tr th:only-of-type {\n",
       "        vertical-align: middle;\n",
       "    }\n",
       "\n",
       "    .dataframe tbody tr th {\n",
       "        vertical-align: top;\n",
       "    }\n",
       "\n",
       "    .dataframe thead th {\n",
       "        text-align: right;\n",
       "    }\n",
       "</style>\n",
       "<table border=\"1\" class=\"dataframe\">\n",
       "  <thead>\n",
       "    <tr style=\"text-align: right;\">\n",
       "      <th></th>\n",
       "      <th>End of the day Feeling (0 to 10)</th>\n",
       "    </tr>\n",
       "  </thead>\n",
       "  <tbody>\n",
       "    <tr>\n",
       "      <th>0</th>\n",
       "      <td>7.0</td>\n",
       "    </tr>\n",
       "    <tr>\n",
       "      <th>1</th>\n",
       "      <td>8.0</td>\n",
       "    </tr>\n",
       "    <tr>\n",
       "      <th>2</th>\n",
       "      <td>6.0</td>\n",
       "    </tr>\n",
       "    <tr>\n",
       "      <th>3</th>\n",
       "      <td>8.0</td>\n",
       "    </tr>\n",
       "    <tr>\n",
       "      <th>4</th>\n",
       "      <td>8.0</td>\n",
       "    </tr>\n",
       "  </tbody>\n",
       "</table>\n",
       "</div>"
      ],
      "text/plain": [
       "   End of the day Feeling (0 to 10)\n",
       "0                               7.0\n",
       "1                               8.0\n",
       "2                               6.0\n",
       "3                               8.0\n",
       "4                               8.0"
      ]
     },
     "execution_count": 39,
     "metadata": {},
     "output_type": "execute_result"
    }
   ],
   "source": [
    "y.head()"
   ]
  },
  {
   "cell_type": "markdown",
   "id": "a843fc21",
   "metadata": {},
   "source": [
    "# Splitting the data into Training and Test set"
   ]
  },
  {
   "cell_type": "code",
   "execution_count": 40,
   "id": "9d9e40b0",
   "metadata": {},
   "outputs": [],
   "source": [
    "from sklearn.model_selection import train_test_split\n",
    "from sklearn.linear_model import LinearRegression"
   ]
  },
  {
   "cell_type": "code",
   "execution_count": 41,
   "id": "0e631c74",
   "metadata": {},
   "outputs": [],
   "source": [
    "X_train,X_test,y_train,y_test=train_test_split(X,y,test_size=.2, random_state=42)"
   ]
  },
  {
   "cell_type": "markdown",
   "id": "eeff7e25",
   "metadata": {},
   "source": [
    "# Training the Multiple Linear Regression model on the training set"
   ]
  },
  {
   "cell_type": "code",
   "execution_count": 42,
   "id": "faffa112",
   "metadata": {},
   "outputs": [
    {
     "data": {
      "text/plain": [
       "LinearRegression()"
      ]
     },
     "execution_count": 42,
     "metadata": {},
     "output_type": "execute_result"
    }
   ],
   "source": [
    "regressor=LinearRegression()\n",
    "regressor.fit(X_train,y_train)"
   ]
  },
  {
   "cell_type": "code",
   "execution_count": 43,
   "id": "7bf025bf",
   "metadata": {},
   "outputs": [
    {
     "name": "stdout",
     "output_type": "stream",
     "text": [
      "Coefficient [[-0.13668617 -0.05926067 -0.1798232   0.28669759  0.04683262 -0.53000841\n",
      "  -0.53376948  0.14430952  0.0423296  -0.39567728 -0.16976282]]\n",
      "Intercept [8.89331828]\n"
     ]
    }
   ],
   "source": [
    "print('Coefficient', regressor.coef_)\n",
    "print('Intercept', regressor.intercept_)"
   ]
  },
  {
   "cell_type": "markdown",
   "id": "27507476",
   "metadata": {},
   "source": [
    "# Predicting the Test set results"
   ]
  },
  {
   "cell_type": "code",
   "execution_count": 44,
   "id": "bb911a7d",
   "metadata": {},
   "outputs": [],
   "source": [
    "y_pred=regressor.predict(X_test)"
   ]
  },
  {
   "cell_type": "markdown",
   "id": "f997c490",
   "metadata": {},
   "source": [
    "# Validation"
   ]
  },
  {
   "cell_type": "code",
   "execution_count": 45,
   "id": "7ea7c60a",
   "metadata": {},
   "outputs": [
    {
     "data": {
      "text/plain": [
       "array([[8.01784204]])"
      ]
     },
     "execution_count": 45,
     "metadata": {},
     "output_type": "execute_result"
    }
   ],
   "source": [
    "regressor.predict([[8,2,1,1,4,0,0,0,1,0,0]])"
   ]
  },
  {
   "cell_type": "code",
   "execution_count": 46,
   "id": "0bf1973a",
   "metadata": {},
   "outputs": [
    {
     "data": {
      "text/plain": [
       "array([[7.74426383]])"
      ]
     },
     "execution_count": 46,
     "metadata": {},
     "output_type": "execute_result"
    }
   ],
   "source": [
    "regressor.predict([[7,1,1,0,1,0,0,0,0,0,0]])"
   ]
  },
  {
   "cell_type": "code",
   "execution_count": 47,
   "id": "94bfc264",
   "metadata": {},
   "outputs": [
    {
     "data": {
      "text/plain": [
       "array([[7.24120334]])"
      ]
     },
     "execution_count": 47,
     "metadata": {},
     "output_type": "execute_result"
    }
   ],
   "source": [
    "regressor.predict([[8,2,0,0,2,0,1,0,0,0,0]])"
   ]
  },
  {
   "cell_type": "code",
   "execution_count": 48,
   "id": "b7d940b2",
   "metadata": {},
   "outputs": [
    {
     "data": {
      "text/plain": [
       "array([[7.96611496]])"
      ]
     },
     "execution_count": 48,
     "metadata": {},
     "output_type": "execute_result"
    }
   ],
   "source": [
    "regressor.predict([[8,2,0,0,3,0,0,1,0,0,0]])"
   ]
  },
  {
   "cell_type": "code",
   "execution_count": 49,
   "id": "f99e7ce2",
   "metadata": {},
   "outputs": [
    {
     "data": {
      "text/plain": [
       "array([[7.02290136]])"
      ]
     },
     "execution_count": 49,
     "metadata": {},
     "output_type": "execute_result"
    }
   ],
   "source": [
    "regressor.predict([[9,3,2,1,3,1,0,0,0,0,0]])"
   ]
  },
  {
   "cell_type": "markdown",
   "id": "51bbdd04",
   "metadata": {},
   "source": [
    "# R2 Score, Coefficients, Intercepts"
   ]
  },
  {
   "cell_type": "code",
   "execution_count": 50,
   "id": "063b8f8a",
   "metadata": {},
   "outputs": [
    {
     "name": "stdout",
     "output_type": "stream",
     "text": [
      "R-Square -0.5390920251690099\n"
     ]
    }
   ],
   "source": [
    "from sklearn.metrics import r2_score\n",
    "print('R-Square',r2_score(y_test,y_pred))"
   ]
  },
  {
   "cell_type": "code",
   "execution_count": 51,
   "id": "e8c07e01",
   "metadata": {},
   "outputs": [
    {
     "name": "stdout",
     "output_type": "stream",
     "text": [
      "Coefficient [[-0.13668617 -0.05926067 -0.1798232   0.28669759  0.04683262 -0.53000841\n",
      "  -0.53376948  0.14430952  0.0423296  -0.39567728 -0.16976282]]\n",
      "Intercept [8.89331828]\n"
     ]
    }
   ],
   "source": [
    "print('Coefficient', regressor.coef_)\n",
    "print('Intercept', regressor.intercept_)"
   ]
  },
  {
   "cell_type": "code",
   "execution_count": 52,
   "id": "dd1a5c85",
   "metadata": {},
   "outputs": [
    {
     "data": {
      "text/html": [
       "<table class=\"simpletable\">\n",
       "<caption>OLS Regression Results</caption>\n",
       "<tr>\n",
       "  <th>Dep. Variable:</th>    <td>End of the day Feeling (0 to 10)</td> <th>  R-squared (uncentered):</th>      <td>   0.985</td>\n",
       "</tr>\n",
       "<tr>\n",
       "  <th>Model:</th>                           <td>OLS</td>               <th>  Adj. R-squared (uncentered):</th> <td>   0.983</td>\n",
       "</tr>\n",
       "<tr>\n",
       "  <th>Method:</th>                     <td>Least Squares</td>          <th>  F-statistic:       </th>          <td>   349.0</td>\n",
       "</tr>\n",
       "<tr>\n",
       "  <th>Date:</th>                     <td>Mon, 21 Mar 2022</td>         <th>  Prob (F-statistic):</th>          <td>4.90e-48</td>\n",
       "</tr>\n",
       "<tr>\n",
       "  <th>Time:</th>                         <td>21:35:11</td>             <th>  Log-Likelihood:    </th>          <td> -91.693</td>\n",
       "</tr>\n",
       "<tr>\n",
       "  <th>No. Observations:</th>              <td>    68</td>              <th>  AIC:               </th>          <td>   205.4</td>\n",
       "</tr>\n",
       "<tr>\n",
       "  <th>Df Residuals:</th>                  <td>    57</td>              <th>  BIC:               </th>          <td>   229.8</td>\n",
       "</tr>\n",
       "<tr>\n",
       "  <th>Df Model:</th>                      <td>    11</td>              <th>                     </th>              <td> </td>   \n",
       "</tr>\n",
       "<tr>\n",
       "  <th>Covariance Type:</th>              <td>nonrobust</td>            <th>                     </th>              <td> </td>   \n",
       "</tr>\n",
       "</table>\n",
       "<table class=\"simpletable\">\n",
       "<tr>\n",
       "        <td></td>           <th>coef</th>     <th>std err</th>      <th>t</th>      <th>P>|t|</th>  <th>[0.025</th>    <th>0.975]</th>  \n",
       "</tr>\n",
       "<tr>\n",
       "  <th>Sleep Hour</th>    <td>    0.6389</td> <td>    0.084</td> <td>    7.592</td> <td> 0.000</td> <td>    0.470</td> <td>    0.807</td>\n",
       "</tr>\n",
       "<tr>\n",
       "  <th>Exercise Hour</th> <td>   -0.0991</td> <td>    0.206</td> <td>   -0.481</td> <td> 0.632</td> <td>   -0.511</td> <td>    0.313</td>\n",
       "</tr>\n",
       "<tr>\n",
       "  <th>Study Hour</th>    <td>   -0.0037</td> <td>    0.197</td> <td>   -0.019</td> <td> 0.985</td> <td>   -0.399</td> <td>    0.391</td>\n",
       "</tr>\n",
       "<tr>\n",
       "  <th>StudyDS Hour</th>  <td>   -0.1003</td> <td>    0.324</td> <td>   -0.310</td> <td> 0.758</td> <td>   -0.749</td> <td>    0.548</td>\n",
       "</tr>\n",
       "<tr>\n",
       "  <th>Work Hour</th>     <td>    0.7461</td> <td>    0.237</td> <td>    3.154</td> <td> 0.003</td> <td>    0.272</td> <td>    1.220</td>\n",
       "</tr>\n",
       "<tr>\n",
       "  <th>Day_Monday</th>    <td>   -0.0054</td> <td>    0.478</td> <td>   -0.011</td> <td> 0.991</td> <td>   -0.962</td> <td>    0.951</td>\n",
       "</tr>\n",
       "<tr>\n",
       "  <th>Day_Saturday</th>  <td>   -0.0243</td> <td>    0.466</td> <td>   -0.052</td> <td> 0.959</td> <td>   -0.957</td> <td>    0.908</td>\n",
       "</tr>\n",
       "<tr>\n",
       "  <th>Day_Sunday</th>    <td>   -0.6524</td> <td>    0.678</td> <td>   -0.963</td> <td> 0.340</td> <td>   -2.009</td> <td>    0.705</td>\n",
       "</tr>\n",
       "<tr>\n",
       "  <th>Day_Thursday</th>  <td>    0.3746</td> <td>    0.489</td> <td>    0.766</td> <td> 0.447</td> <td>   -0.604</td> <td>    1.353</td>\n",
       "</tr>\n",
       "<tr>\n",
       "  <th>Day_Tuesday</th>   <td>    0.6966</td> <td>    0.517</td> <td>    1.347</td> <td> 0.183</td> <td>   -0.339</td> <td>    1.732</td>\n",
       "</tr>\n",
       "<tr>\n",
       "  <th>Day_Wednesday</th> <td>    0.5629</td> <td>    0.488</td> <td>    1.153</td> <td> 0.254</td> <td>   -0.415</td> <td>    1.540</td>\n",
       "</tr>\n",
       "</table>\n",
       "<table class=\"simpletable\">\n",
       "<tr>\n",
       "  <th>Omnibus:</th>       <td> 6.356</td> <th>  Durbin-Watson:     </th> <td>   1.176</td>\n",
       "</tr>\n",
       "<tr>\n",
       "  <th>Prob(Omnibus):</th> <td> 0.042</td> <th>  Jarque-Bera (JB):  </th> <td>   5.589</td>\n",
       "</tr>\n",
       "<tr>\n",
       "  <th>Skew:</th>          <td> 0.668</td> <th>  Prob(JB):          </th> <td>  0.0612</td>\n",
       "</tr>\n",
       "<tr>\n",
       "  <th>Kurtosis:</th>      <td> 3.432</td> <th>  Cond. No.          </th> <td>    69.5</td>\n",
       "</tr>\n",
       "</table><br/><br/>Notes:<br/>[1] R² is computed without centering (uncentered) since the model does not contain a constant.<br/>[2] Standard Errors assume that the covariance matrix of the errors is correctly specified."
      ],
      "text/plain": [
       "<class 'statsmodels.iolib.summary.Summary'>\n",
       "\"\"\"\n",
       "                                        OLS Regression Results                                       \n",
       "=====================================================================================================\n",
       "Dep. Variable:     End of the day Feeling (0 to 10)   R-squared (uncentered):                   0.985\n",
       "Model:                                          OLS   Adj. R-squared (uncentered):              0.983\n",
       "Method:                               Least Squares   F-statistic:                              349.0\n",
       "Date:                              Mon, 21 Mar 2022   Prob (F-statistic):                    4.90e-48\n",
       "Time:                                      21:35:11   Log-Likelihood:                         -91.693\n",
       "No. Observations:                                68   AIC:                                      205.4\n",
       "Df Residuals:                                    57   BIC:                                      229.8\n",
       "Df Model:                                        11                                                  \n",
       "Covariance Type:                          nonrobust                                                  \n",
       "=================================================================================\n",
       "                    coef    std err          t      P>|t|      [0.025      0.975]\n",
       "---------------------------------------------------------------------------------\n",
       "Sleep Hour        0.6389      0.084      7.592      0.000       0.470       0.807\n",
       "Exercise Hour    -0.0991      0.206     -0.481      0.632      -0.511       0.313\n",
       "Study Hour       -0.0037      0.197     -0.019      0.985      -0.399       0.391\n",
       "StudyDS Hour     -0.1003      0.324     -0.310      0.758      -0.749       0.548\n",
       "Work Hour         0.7461      0.237      3.154      0.003       0.272       1.220\n",
       "Day_Monday       -0.0054      0.478     -0.011      0.991      -0.962       0.951\n",
       "Day_Saturday     -0.0243      0.466     -0.052      0.959      -0.957       0.908\n",
       "Day_Sunday       -0.6524      0.678     -0.963      0.340      -2.009       0.705\n",
       "Day_Thursday      0.3746      0.489      0.766      0.447      -0.604       1.353\n",
       "Day_Tuesday       0.6966      0.517      1.347      0.183      -0.339       1.732\n",
       "Day_Wednesday     0.5629      0.488      1.153      0.254      -0.415       1.540\n",
       "==============================================================================\n",
       "Omnibus:                        6.356   Durbin-Watson:                   1.176\n",
       "Prob(Omnibus):                  0.042   Jarque-Bera (JB):                5.589\n",
       "Skew:                           0.668   Prob(JB):                       0.0612\n",
       "Kurtosis:                       3.432   Cond. No.                         69.5\n",
       "==============================================================================\n",
       "\n",
       "Notes:\n",
       "[1] R² is computed without centering (uncentered) since the model does not contain a constant.\n",
       "[2] Standard Errors assume that the covariance matrix of the errors is correctly specified.\n",
       "\"\"\""
      ]
     },
     "execution_count": 52,
     "metadata": {},
     "output_type": "execute_result"
    }
   ],
   "source": [
    "model=sm.OLS(y,X).fit()\n",
    "model.summary()"
   ]
  },
  {
   "cell_type": "code",
   "execution_count": 53,
   "id": "f9520b3f",
   "metadata": {},
   "outputs": [
    {
     "data": {
      "text/plain": [
       "Index(['Sleep Hour', 'Exercise Hour', 'Study Hour', 'StudyDS Hour',\n",
       "       'Work Hour', 'Day_Monday', 'Day_Saturday', 'Day_Sunday', 'Day_Thursday',\n",
       "       'Day_Tuesday', 'Day_Wednesday'],\n",
       "      dtype='object')"
      ]
     },
     "execution_count": 53,
     "metadata": {},
     "output_type": "execute_result"
    }
   ],
   "source": [
    "X.columns"
   ]
  },
  {
   "cell_type": "code",
   "execution_count": 56,
   "id": "84a0dcbf",
   "metadata": {},
   "outputs": [],
   "source": [
    "X1=X[['Sleep Hour', 'Work Hour']]"
   ]
  },
  {
   "cell_type": "code",
   "execution_count": 57,
   "id": "a7a7225c",
   "metadata": {},
   "outputs": [
    {
     "data": {
      "text/html": [
       "<table class=\"simpletable\">\n",
       "<caption>OLS Regression Results</caption>\n",
       "<tr>\n",
       "  <th>Dep. Variable:</th>    <td>End of the day Feeling (0 to 10)</td> <th>  R-squared (uncentered):</th>      <td>   0.982</td>\n",
       "</tr>\n",
       "<tr>\n",
       "  <th>Model:</th>                           <td>OLS</td>               <th>  Adj. R-squared (uncentered):</th> <td>   0.981</td>\n",
       "</tr>\n",
       "<tr>\n",
       "  <th>Method:</th>                     <td>Least Squares</td>          <th>  F-statistic:       </th>          <td>   1773.</td>\n",
       "</tr>\n",
       "<tr>\n",
       "  <th>Date:</th>                     <td>Mon, 21 Mar 2022</td>         <th>  Prob (F-statistic):</th>          <td>4.39e-58</td>\n",
       "</tr>\n",
       "<tr>\n",
       "  <th>Time:</th>                         <td>21:39:18</td>             <th>  Log-Likelihood:    </th>          <td> -99.253</td>\n",
       "</tr>\n",
       "<tr>\n",
       "  <th>No. Observations:</th>              <td>    68</td>              <th>  AIC:               </th>          <td>   202.5</td>\n",
       "</tr>\n",
       "<tr>\n",
       "  <th>Df Residuals:</th>                  <td>    66</td>              <th>  BIC:               </th>          <td>   206.9</td>\n",
       "</tr>\n",
       "<tr>\n",
       "  <th>Df Model:</th>                      <td>     2</td>              <th>                     </th>              <td> </td>   \n",
       "</tr>\n",
       "<tr>\n",
       "  <th>Covariance Type:</th>              <td>nonrobust</td>            <th>                     </th>              <td> </td>   \n",
       "</tr>\n",
       "</table>\n",
       "<table class=\"simpletable\">\n",
       "<tr>\n",
       "       <td></td>         <th>coef</th>     <th>std err</th>      <th>t</th>      <th>P>|t|</th>  <th>[0.025</th>    <th>0.975]</th>  \n",
       "</tr>\n",
       "<tr>\n",
       "  <th>Sleep Hour</th> <td>    0.7201</td> <td>    0.067</td> <td>   10.712</td> <td> 0.000</td> <td>    0.586</td> <td>    0.854</td>\n",
       "</tr>\n",
       "<tr>\n",
       "  <th>Work Hour</th>  <td>    0.5469</td> <td>    0.117</td> <td>    4.660</td> <td> 0.000</td> <td>    0.313</td> <td>    0.781</td>\n",
       "</tr>\n",
       "</table>\n",
       "<table class=\"simpletable\">\n",
       "<tr>\n",
       "  <th>Omnibus:</th>       <td> 0.277</td> <th>  Durbin-Watson:     </th> <td>   1.197</td>\n",
       "</tr>\n",
       "<tr>\n",
       "  <th>Prob(Omnibus):</th> <td> 0.870</td> <th>  Jarque-Bera (JB):  </th> <td>   0.462</td>\n",
       "</tr>\n",
       "<tr>\n",
       "  <th>Skew:</th>          <td> 0.076</td> <th>  Prob(JB):          </th> <td>   0.794</td>\n",
       "</tr>\n",
       "<tr>\n",
       "  <th>Kurtosis:</th>      <td> 2.626</td> <th>  Cond. No.          </th> <td>    8.93</td>\n",
       "</tr>\n",
       "</table><br/><br/>Notes:<br/>[1] R² is computed without centering (uncentered) since the model does not contain a constant.<br/>[2] Standard Errors assume that the covariance matrix of the errors is correctly specified."
      ],
      "text/plain": [
       "<class 'statsmodels.iolib.summary.Summary'>\n",
       "\"\"\"\n",
       "                                        OLS Regression Results                                       \n",
       "=====================================================================================================\n",
       "Dep. Variable:     End of the day Feeling (0 to 10)   R-squared (uncentered):                   0.982\n",
       "Model:                                          OLS   Adj. R-squared (uncentered):              0.981\n",
       "Method:                               Least Squares   F-statistic:                              1773.\n",
       "Date:                              Mon, 21 Mar 2022   Prob (F-statistic):                    4.39e-58\n",
       "Time:                                      21:39:18   Log-Likelihood:                         -99.253\n",
       "No. Observations:                                68   AIC:                                      202.5\n",
       "Df Residuals:                                    66   BIC:                                      206.9\n",
       "Df Model:                                         2                                                  \n",
       "Covariance Type:                          nonrobust                                                  \n",
       "==============================================================================\n",
       "                 coef    std err          t      P>|t|      [0.025      0.975]\n",
       "------------------------------------------------------------------------------\n",
       "Sleep Hour     0.7201      0.067     10.712      0.000       0.586       0.854\n",
       "Work Hour      0.5469      0.117      4.660      0.000       0.313       0.781\n",
       "==============================================================================\n",
       "Omnibus:                        0.277   Durbin-Watson:                   1.197\n",
       "Prob(Omnibus):                  0.870   Jarque-Bera (JB):                0.462\n",
       "Skew:                           0.076   Prob(JB):                        0.794\n",
       "Kurtosis:                       2.626   Cond. No.                         8.93\n",
       "==============================================================================\n",
       "\n",
       "Notes:\n",
       "[1] R² is computed without centering (uncentered) since the model does not contain a constant.\n",
       "[2] Standard Errors assume that the covariance matrix of the errors is correctly specified.\n",
       "\"\"\""
      ]
     },
     "execution_count": 57,
     "metadata": {},
     "output_type": "execute_result"
    }
   ],
   "source": [
    "sm.OLS(y,X1).fit().summary()"
   ]
  },
  {
   "cell_type": "code",
   "execution_count": null,
   "id": "330ec93a",
   "metadata": {},
   "outputs": [],
   "source": []
  },
  {
   "cell_type": "code",
   "execution_count": null,
   "id": "6a08d101",
   "metadata": {},
   "outputs": [],
   "source": []
  },
  {
   "cell_type": "markdown",
   "id": "d5efb10c",
   "metadata": {},
   "source": [
    "# *Sleep and Work Hours are the only Significant factors of Happiness for the Day*"
   ]
  },
  {
   "cell_type": "code",
   "execution_count": null,
   "id": "824c8f9b",
   "metadata": {},
   "outputs": [],
   "source": []
  }
 ],
 "metadata": {
  "kernelspec": {
   "display_name": "Python 3",
   "language": "python",
   "name": "python3"
  },
  "language_info": {
   "codemirror_mode": {
    "name": "ipython",
    "version": 3
   },
   "file_extension": ".py",
   "mimetype": "text/x-python",
   "name": "python",
   "nbconvert_exporter": "python",
   "pygments_lexer": "ipython3",
   "version": "3.8.8"
  }
 },
 "nbformat": 4,
 "nbformat_minor": 5
}
